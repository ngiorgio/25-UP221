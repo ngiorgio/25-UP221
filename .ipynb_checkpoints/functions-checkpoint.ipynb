{
 "cells": [
  {
   "cell_type": "markdown",
   "id": "e90e8f26-58ca-4516-a4bc-fbccf46e1fcc",
   "metadata": {},
   "source": [
    "## Getting help: attach a '?' at the end"
   ]
  },
  {
   "cell_type": "code",
   "execution_count": 3,
   "id": "b6271218-ce11-4e5d-acee-5e34d16c7a52",
   "metadata": {},
   "outputs": [
    {
     "data": {
      "text/plain": [
       "\u001b[0;31mSignature:\u001b[0m \u001b[0mprint\u001b[0m\u001b[0;34m(\u001b[0m\u001b[0;34m*\u001b[0m\u001b[0margs\u001b[0m\u001b[0;34m,\u001b[0m \u001b[0msep\u001b[0m\u001b[0;34m=\u001b[0m\u001b[0;34m' '\u001b[0m\u001b[0;34m,\u001b[0m \u001b[0mend\u001b[0m\u001b[0;34m=\u001b[0m\u001b[0;34m'\\n'\u001b[0m\u001b[0;34m,\u001b[0m \u001b[0mfile\u001b[0m\u001b[0;34m=\u001b[0m\u001b[0;32mNone\u001b[0m\u001b[0;34m,\u001b[0m \u001b[0mflush\u001b[0m\u001b[0;34m=\u001b[0m\u001b[0;32mFalse\u001b[0m\u001b[0;34m)\u001b[0m\u001b[0;34m\u001b[0m\u001b[0;34m\u001b[0m\u001b[0m\n",
       "\u001b[0;31mDocstring:\u001b[0m\n",
       "Prints the values to a stream, or to sys.stdout by default.\n",
       "\n",
       "sep\n",
       "  string inserted between values, default a space.\n",
       "end\n",
       "  string appended after the last value, default a newline.\n",
       "file\n",
       "  a file-like object (stream); defaults to the current sys.stdout.\n",
       "flush\n",
       "  whether to forcibly flush the stream.\n",
       "\u001b[0;31mType:\u001b[0m      builtin_function_or_method"
      ]
     },
     "metadata": {},
     "output_type": "display_data"
    }
   ],
   "source": [
    "print?"
   ]
  },
  {
   "cell_type": "markdown",
   "id": "0a8aef73-e3f6-46fc-b00c-1036ec158d88",
   "metadata": {},
   "source": [
    "## Data types"
   ]
  },
  {
   "cell_type": "code",
   "execution_count": 4,
   "id": "6e7c471c-4a60-45dd-8ce8-aea6ea8993f5",
   "metadata": {},
   "outputs": [
    {
     "data": {
      "text/plain": [
       "type"
      ]
     },
     "execution_count": 4,
     "metadata": {},
     "output_type": "execute_result"
    }
   ],
   "source": [
    "type"
   ]
  },
  {
   "cell_type": "markdown",
   "id": "fae8af9f-3662-4c01-9a51-9b5fc5ffd276",
   "metadata": {},
   "source": [
    "## Dictionaries"
   ]
  },
  {
   "cell_type": "code",
   "execution_count": 5,
   "id": "6cdc7b35-d43e-4c8b-92b1-9f294577fc34",
   "metadata": {},
   "outputs": [
    {
     "data": {
      "text/plain": [
       "{'first_name': 'Chris', 'last_name': 'Giamarino', 'hobby': 'skateboarding'}"
      ]
     },
     "execution_count": 5,
     "metadata": {},
     "output_type": "execute_result"
    }
   ],
   "source": [
    "person = {'first_name':'Chris', 'last_name':'Giamarino','hobby':'skateboarding'}\n",
    "person"
   ]
  },
  {
   "cell_type": "markdown",
   "id": "f498455d-91d1-4a83-8efc-4827aea00e81",
   "metadata": {},
   "source": [
    "## Functions"
   ]
  },
  {
   "cell_type": "code",
   "execution_count": null,
   "id": "948a71f4-ded8-4b0f-ba7e-6e2f53248097",
   "metadata": {},
   "outputs": [],
   "source": [
    "# how many characters are in this string? use len function\n",
    "len(location)"
   ]
  },
  {
   "cell_type": "code",
   "execution_count": null,
   "id": "ffc7fc6f-1149-4c89-9d82-e71102d377b7",
   "metadata": {},
   "outputs": [],
   "source": [
    "# you can replace characters in a string with the replace() method\n",
    "location.replace('e', 'E')"
   ]
  },
  {
   "cell_type": "code",
   "execution_count": null,
   "id": "0778fde5-490d-4f92-8746-5df7da9464a7",
   "metadata": {},
   "outputs": [],
   "source": [
    "# add a new element with the append() method\n",
    "# lists can hold elements of varying data types\n",
    "my_list.append('hello')"
   ]
  },
  {
   "cell_type": "code",
   "execution_count": null,
   "id": "2fc0911d-24df-46f1-b6e0-ad2841385919",
   "metadata": {},
   "outputs": [],
   "source": [
    "# I want to see all the data\n",
    "pd.set_option('display.max_columns', None)\n",
    "pd.set_option('display.max_rows', None)"
   ]
  },
  {
   "cell_type": "code",
   "execution_count": null,
   "id": "f2e22f50-bd1d-4dff-a5f6-61fd12a3ee28",
   "metadata": {},
   "outputs": [],
   "source": [
    "#Sort city_count by 'count' in descending order\n",
    "top_5_cities = city_count.sort_values('count', ascending=False).head(5)\n",
    "\n",
    "# Then plot only these top 5\n",
    "top_5_cities.plot.bar(x='City', y='count', title='Top 5 Cities')\n",
    "plt.show()"
   ]
  },
  {
   "cell_type": "code",
   "execution_count": null,
   "id": "b61a43eb-679c-4e67-823c-d89fc0f6b01a",
   "metadata": {},
   "outputs": [],
   "source": [
    "# axis = 0 drops rows axis = 1 drops columns with null\n",
    "df = df.dropna(axis=1,how=\"all\")"
   ]
  },
  {
   "cell_type": "code",
   "execution_count": null,
   "id": "13c762d4-f7ae-4a61-8764-dcd1f1cda905",
   "metadata": {},
   "outputs": [],
   "source": [
    "# Filter your original GeoDataFrame to those top 10 intersections\n",
    "top_10_PLI = PLI_df[PLI_df['Primary_St'].isin(top_10_intersections)]"
   ]
  },
  {
   "cell_type": "markdown",
   "id": "84f3e9bb-f47c-40e5-9755-3ff121046eed",
   "metadata": {},
   "source": [
    "Error: "
   ]
  },
  {
   "cell_type": "code",
   "execution_count": null,
   "id": "5b71b8d2-ce48-466b-80ac-b643618883c8",
   "metadata": {},
   "outputs": [],
   "source": [
    "tracts_race['Black or African American'] = pd.to_numeric(tracts_race['Black or African American'], errors='coerce')\n"
   ]
  }
 ],
 "metadata": {
  "kernelspec": {
   "display_name": "Python 3 (ipykernel)",
   "language": "python",
   "name": "python3"
  },
  "language_info": {
   "codemirror_mode": {
    "name": "ipython",
    "version": 3
   },
   "file_extension": ".py",
   "mimetype": "text/x-python",
   "name": "python",
   "nbconvert_exporter": "python",
   "pygments_lexer": "ipython3",
   "version": "3.11.9"
  }
 },
 "nbformat": 4,
 "nbformat_minor": 5
}
