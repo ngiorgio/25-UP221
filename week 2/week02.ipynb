{
 "cells": [
  {
   "cell_type": "markdown",
   "id": "2a625eea-44e8-4b45-9d22-a941cb9c998c",
   "metadata": {},
   "source": [
    "# Week 2 Data Exploration\n",
    "## Nick Giorgio\n",
    "The purpose of this assignment is to work with [gis data](https://geohub.lacity.org/)"
   ]
  },
  {
   "cell_type": "code",
   "execution_count": 7,
   "id": "d4e18a3c-1b72-43b7-af45-2ecd45ad517b",
   "metadata": {},
   "outputs": [
    {
     "name": "stdout",
     "output_type": "stream",
     "text": [
      "Let's go Git Hub\n"
     ]
    }
   ],
   "source": [
    "print(\"Let's go Git Hub\") "
   ]
  },
  {
   "cell_type": "code",
   "execution_count": null,
   "id": "30fd126a-152f-4792-9398-6a0da317dccd",
   "metadata": {},
   "outputs": [],
   "source": []
  }
 ],
 "metadata": {
  "kernelspec": {
   "display_name": "Python 3 (ipykernel)",
   "language": "python",
   "name": "python3"
  },
  "language_info": {
   "codemirror_mode": {
    "name": "ipython",
    "version": 3
   },
   "file_extension": ".py",
   "mimetype": "text/x-python",
   "name": "python",
   "nbconvert_exporter": "python",
   "pygments_lexer": "ipython3",
   "version": "3.11.9"
  }
 },
 "nbformat": 4,
 "nbformat_minor": 5
}
